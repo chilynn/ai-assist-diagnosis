{
 "cells": [
  {
   "cell_type": "code",
   "execution_count": 15,
   "metadata": {
    "collapsed": true
   },
   "outputs": [],
   "source": [
    "import sys\n",
    "import jieba\n",
    "import jieba.posseg as pseg\n",
    "import pandas as pd"
   ]
  },
  {
   "cell_type": "code",
   "execution_count": 4,
   "metadata": {
    "collapsed": false
   },
   "outputs": [
    {
     "name": "stdout",
     "output_type": "stream",
     "text": [
      "EXAM_RESULT_DESC.csv\r\n"
     ]
    }
   ],
   "source": [
    "ls ../data"
   ]
  },
  {
   "cell_type": "code",
   "execution_count": 7,
   "metadata": {
    "collapsed": false
   },
   "outputs": [
    {
     "name": "stdout",
     "output_type": "stream",
     "text": [
      "颈椎曲度尚存，排列稳，椎体缘未见明显骨质增生，诸椎体信号未见明显异常改变，C5/6、C6/7椎间盘轻度向后突出，硬膜囊稍受压。脊髓信号未见明显异常。\n"
     ]
    }
   ],
   "source": [
    "records = []\n",
    "with open(\"../data/EXAM_RESULT_DESC.csv\", \"rb\") as infile:\n",
    "    for row in infile:\n",
    "        row = row.strip().decode(\"utf-8\")\n",
    "        records.append(row)\n",
    "print records[0]"
   ]
  },
  {
   "cell_type": "code",
   "execution_count": 9,
   "metadata": {
    "collapsed": false
   },
   "outputs": [
    {
     "name": "stdout",
     "output_type": "stream",
     "text": [
      "双肾形态、大小正常，包膜光整，实质回声均匀呈低回声，皮髓质分界清晰，集合系统未见分离。、　　双侧输尿管未见明显扩张。、   膀胱充盈欠佳，所见部分内未见明显异常回声。\n"
     ]
    }
   ],
   "source": [
    "print records[10]"
   ]
  },
  {
   "cell_type": "code",
   "execution_count": 23,
   "metadata": {
    "collapsed": false
   },
   "outputs": [
    {
     "name": "stdout",
     "output_type": "stream",
     "text": [
      "双/肾/形态/大小/正常/包膜/光/整/实质/回声/均匀/呈/低回/回声/皮/髓质/分界/清晰/集合/系统/未/见/分离/双/侧/输尿管/未/见/明显/扩张/膀胱/充盈/欠佳/所见/部分/分内/未/见/明显/异常/回声\n"
     ]
    }
   ],
   "source": [
    "seg_list = jieba.cut(records[10], cut_all=True)\n",
    "print \"/\".join([val for val in seg_list if val != \"\"])"
   ]
  },
  {
   "cell_type": "code",
   "execution_count": 26,
   "metadata": {
    "collapsed": false
   },
   "outputs": [
    {
     "name": "stdout",
     "output_type": "stream",
     "text": [
      "%s %s 颈椎 n\n",
      "%s %s 曲度 n\n",
      "%s %s 椎体 n\n",
      "%s %s 缘 n\n",
      "%s %s 骨质增生 n\n",
      "%s %s 椎体 n\n",
      "%s %s 信号 n\n",
      "%s %s 椎间盘 n\n",
      "%s %s 膜 n\n",
      "%s %s 脊髓 n\n",
      "%s %s 信号 n\n"
     ]
    }
   ],
   "source": [
    "words = pseg.cut(records[0])\n",
    "for word, flag in words:\n",
    "    if flag != \"n\":\n",
    "        continue\n",
    "    print \"%s %s\", word, flag"
   ]
  },
  {
   "cell_type": "code",
   "execution_count": null,
   "metadata": {
    "collapsed": true
   },
   "outputs": [],
   "source": []
  }
 ],
 "metadata": {
  "kernelspec": {
   "display_name": "Python 2",
   "language": "python",
   "name": "python2"
  },
  "language_info": {
   "codemirror_mode": {
    "name": "ipython",
    "version": 2
   },
   "file_extension": ".py",
   "mimetype": "text/x-python",
   "name": "python",
   "nbconvert_exporter": "python",
   "pygments_lexer": "ipython2",
   "version": "2.7.6"
  }
 },
 "nbformat": 4,
 "nbformat_minor": 0
}
